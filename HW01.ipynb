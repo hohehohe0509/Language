{
 "cells": [
  {
   "cell_type": "code",
   "execution_count": 1,
   "metadata": {},
   "outputs": [
    {
     "name": "stdout",
     "output_type": "stream",
     "text": [
      "Collecting jieba\n",
      "  Downloading jieba-0.42.1.tar.gz (19.2 MB)\n",
      "Building wheels for collected packages: jieba\n",
      "  Building wheel for jieba (setup.py): started\n",
      "  Building wheel for jieba (setup.py): finished with status 'done'\n",
      "Note: you may need to restart the kernel to use updated packages.\n",
      "  Created wheel for jieba: filename=jieba-0.42.1-py3-none-any.whl size=19314482 sha256=29cc7479bb9015957f14c9a047f354d24708640ff0d2ec1320c315c82ea4d0e9\n",
      "  Stored in directory: c:\\users\\何佳馨\\appdata\\local\\pip\\cache\\wheels\\ca\\38\\d8\\dfdfe73bec1d12026b30cb7ce8da650f3f0ea2cf155ea018ae\n",
      "Successfully built jieba\n",
      "Installing collected packages: jieba\n",
      "Successfully installed jieba-0.42.1\n"
     ]
    }
   ],
   "source": [
    "pip install jieba"
   ]
  },
  {
   "cell_type": "code",
   "execution_count": 8,
   "metadata": {},
   "outputs": [
    {
     "name": "stdout",
     "output_type": "stream",
     "text": [
      "36\n",
      "36\n",
      "8\n"
     ]
    }
   ],
   "source": [
    "#encoding=utf-8\n",
    "import jieba\n",
    "import matplotlib.pyplot as plt\n",
    "import numpy as np\n",
    "import math\n",
    "\n",
    "dict1 = {}#全部的詞各自出現幾次\n",
    "dict3 = {}#字彙編號\n",
    "dict4 = {}#每個字的tf\n",
    "dict5 = {}#每個字的tf-IDF\n",
    "\n",
    "fp = open('./OneDrive/文件/hw1-dataset.txt', 'rb')\n",
    "content = fp.readline()\n",
    "totalnum=0                #全部有幾個詞\n",
    "while content:\n",
    "  words=jieba.cut(content)\n",
    "  num=0                  #一篇文章有幾個詞\n",
    "  number=0                 #字彙編號\n",
    "  dict2 = {}#放每一行的詞各自出現幾次\n",
    "  for word in words:\n",
    "    if len(word)<2:\n",
    "      continue\n",
    "    if dict2.get(word):\n",
    "        dict1[word]+=1\n",
    "        dict2[word]+=1\n",
    "    else:\n",
    "        dict2[word]=1\n",
    "        if dict1.get(word):\n",
    "            dict1[word]+=1\n",
    "        else:\n",
    "            dict1[word]=1\n",
    "            dict3[word]=number\n",
    "            number+=1\n",
    "  num=len(dict2)\n",
    "\n",
    "  words=jieba.cut(content)\n",
    "  for word in words:            #計算tf\n",
    "    if len(word)<2:\n",
    "      continue\n",
    "    if dict4.get(word):\n",
    "      dict4[word]=dict2[word]/num\n",
    "    else:\n",
    "      dict4[word]=dict2[word]/num\n",
    "  totalnum=totalnum+num\n",
    "  content = fp.readline()\n",
    "\n",
    "sort=list()\n",
    "sort=sorted(dict1.items(), key=lambda x:x[1],reverse=True)\n",
    "\n",
    "for i in range(len(dict1)):\n",
    "  dict5[sort[i][0]]=dict4[sort[i][0]]*math.log(418202/dict1[sort[i][0]],10)\n",
    "\n",
    "sort=sorted(dict4.items(), key=lambda x:x[1],reverse=True)[:100]\n",
    "print(sort)\n",
    "w=list()\n",
    "y=list()\n",
    "for i in range(100):\n",
    "  w.append(dict3[sort[i][0]])\n",
    "  y.append(sort[i][1])\n",
    "x=np.arange(len(w))   \n",
    "plt.bar(x, y, width=10, tick_label=w)\n",
    "plt.show()\n",
    "\n",
    "plt.figure(figsize=(10,10))\n",
    "W=list()\n",
    "Y=list()\n",
    "sort=sorted(dict5.items(), key=lambda x:x[1],reverse=True)[:100]\n",
    "for i in range(100):\n",
    "  W.append(dict3[sort[i][0]])\n",
    "  Y.append(sort[i][1])\n",
    "x=np.arange(len(W))   \n",
    "plt.bar(x, Y, width=10, tick_label=W)\n",
    "plt.ylim(0,100)\n",
    "plt.show()\n"
   ]
  },
  {
   "cell_type": "code",
   "execution_count": 37,
   "metadata": {},
   "outputs": [
    {
     "ename": "SyntaxError",
     "evalue": "invalid syntax (<ipython-input-37-d280653ded63>, line 1)",
     "output_type": "error",
     "traceback": [
      "\u001b[1;36m  File \u001b[1;32m\"<ipython-input-37-d280653ded63>\"\u001b[1;36m, line \u001b[1;32m1\u001b[0m\n\u001b[1;33m    jupyter notebook --NotebookApp.iopub_data_rate_limit=10000000\u001b[0m\n\u001b[1;37m            ^\u001b[0m\n\u001b[1;31mSyntaxError\u001b[0m\u001b[1;31m:\u001b[0m invalid syntax\n"
     ]
    }
   ],
   "source": []
  },
  {
   "cell_type": "code",
   "execution_count": null,
   "metadata": {},
   "outputs": [],
   "source": []
  }
 ],
 "metadata": {
  "kernelspec": {
   "display_name": "Python 3",
   "language": "python",
   "name": "python3"
  },
  "language_info": {
   "codemirror_mode": {
    "name": "ipython",
    "version": 3
   },
   "file_extension": ".py",
   "mimetype": "text/x-python",
   "name": "python",
   "nbconvert_exporter": "python",
   "pygments_lexer": "ipython3",
   "version": "3.8.5"
  }
 },
 "nbformat": 4,
 "nbformat_minor": 4
}
