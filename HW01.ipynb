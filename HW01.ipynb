{
 "cells": [
  {
   "cell_type": "code",
   "execution_count": 1,
   "metadata": {},
   "outputs": [
    {
     "name": "stdout",
     "output_type": "stream",
     "text": [
      "Collecting jieba\n",
      "  Downloading jieba-0.42.1.tar.gz (19.2 MB)\n",
      "Building wheels for collected packages: jieba\n",
      "  Building wheel for jieba (setup.py): started\n",
      "  Building wheel for jieba (setup.py): finished with status 'done'\n",
      "Note: you may need to restart the kernel to use updated packages.\n",
      "  Created wheel for jieba: filename=jieba-0.42.1-py3-none-any.whl size=19314482 sha256=29cc7479bb9015957f14c9a047f354d24708640ff0d2ec1320c315c82ea4d0e9\n",
      "  Stored in directory: c:\\users\\何佳馨\\appdata\\local\\pip\\cache\\wheels\\ca\\38\\d8\\dfdfe73bec1d12026b30cb7ce8da650f3f0ea2cf155ea018ae\n",
      "Successfully built jieba\n",
      "Installing collected packages: jieba\n",
      "Successfully installed jieba-0.42.1\n"
     ]
    }
   ],
   "source": [
    "pip install jieba"
   ]
  },
  {
   "cell_type": "code",
   "execution_count": null,
   "metadata": {},
   "outputs": [],
   "source": [
    "#encoding=utf-8\n",
    "import jieba\n",
    "\n",
    "fp = open('./OneDrive/文件/hw1-dataset.txt', 'rb')\n",
    "content = fp.readline()\n",
    "totalnum=0                #全部有幾個詞\n",
    "#while content:\n",
    "words=jieba.cut(content, cut_all=False) \n",
    "num=0                  #一篇文章有幾個詞\n",
    "for word in words:\n",
    "    print(word)\n",
    "    num=num+1\n",
    "print(num)\n",
    "content = fp.readline()"
   ]
  },
  {
   "cell_type": "code",
   "execution_count": null,
   "metadata": {},
   "outputs": [],
   "source": []
  }
 ],
 "metadata": {
  "kernelspec": {
   "display_name": "Python 3",
   "language": "python",
   "name": "python3"
  },
  "language_info": {
   "codemirror_mode": {
    "name": "ipython",
    "version": 3
   },
   "file_extension": ".py",
   "mimetype": "text/x-python",
   "name": "python",
   "nbconvert_exporter": "python",
   "pygments_lexer": "ipython3",
   "version": "3.8.5"
  }
 },
 "nbformat": 4,
 "nbformat_minor": 4
}
