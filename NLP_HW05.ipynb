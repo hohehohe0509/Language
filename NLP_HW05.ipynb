{
 "cells": [
  {
   "cell_type": "code",
   "execution_count": null,
   "metadata": {},
   "outputs": [],
   "source": [
    "import json\n",
    "\n",
    "orig = dict()\n",
    "with open('translation2019zh_train.json', 'r', newline='', encoding=\"utf-8\") as file:\n",
    "    data = file.readline()\n",
    "    while data:\n",
    "      orig[json.loads(data)['english']] = json.loads(data)['chinese']\n",
    "      data = file.readline()\n",
    "for english in enumerate(orig, 1):\n",
    "  print(english,orig[english])"
   ]
  }
 ],
 "metadata": {
  "kernelspec": {
   "display_name": "Python 3",
   "language": "python",
   "name": "python3"
  },
  "language_info": {
   "codemirror_mode": {
    "name": "ipython",
    "version": 3
   },
   "file_extension": ".py",
   "mimetype": "text/x-python",
   "name": "python",
   "nbconvert_exporter": "python",
   "pygments_lexer": "ipython3",
   "version": "3.8.5"
  }
 },
 "nbformat": 4,
 "nbformat_minor": 4
}
