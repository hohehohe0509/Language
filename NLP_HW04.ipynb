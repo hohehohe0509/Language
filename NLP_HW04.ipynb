{
 "cells": [
  {
   "cell_type": "code",
   "execution_count": 6,
   "metadata": {},
   "outputs": [],
   "source": [
    "import warnings\n",
    "import gensim, logging\n",
    "warnings.filterwarnings('ignore')"
   ]
  },
  {
   "cell_type": "code",
   "execution_count": 4,
   "metadata": {
    "collapsed": true
   },
   "outputs": [
    {
     "data": {
      "text/plain": [
       "'for dirc in os.listdir(dirPath):\\n    for lis in os.listdir(dirPath+\"\\\\\"+dirc):\\n        with open(\"wiki.txt\", \\'a\\', encoding=\\'utf-8\\') as new_f:\\n            with open(dirPath+\"\\\\\"+dirc+\"\\\\\"+lis, \\'r\\', newline=\\'\\', encoding=\\'utf-8\\') as file:\\n                for times, data in enumerate(file, 1):\\n                    #print(\\'data num:\\', times)\\n                    data = cc.convert(data)\\n                    data = json.loads(data)\\n                    data = replace_all_blank(data[\\'text\\'])\\n                    data = jieba.cut(data)\\n                    data = [word for word in data if word != \\' \\']\\n                    data = \\' \\'.join(data)+\"\\n\"\\n                    new_f.write(data)\\n    \\nfor dirc in os.listdir(dirPath):\\n    print (os.listdir(dirPath+\"\\\\\"+dirc))\\ncc.convert(text)'"
      ]
     },
     "execution_count": 4,
     "metadata": {},
     "output_type": "execute_result"
    }
   ],
   "source": [
    "import os\n",
    "from opencc import OpenCC\n",
    "import json\n",
    "import re\n",
    "import jieba\n",
    "#簡轉繁\n",
    "cc = OpenCC('s2t')\n",
    "Path=r\"C:\\Users\\何佳馨\\wiki_zh_2019\\wiki_zh\"\n",
    "\n",
    "def replace_all_blank(value):        #去掉標點符號\n",
    "  result = re.sub('\\W+', ' ', value).replace(\"_\",  '')\n",
    "  return result\n",
    "\n",
    "def writefile(dirPath):\n",
    "    for dirc in os.listdir(dirPath):\n",
    "        for lis in os.listdir(dirPath+\"\\\\\"+dirc):\n",
    "            with open(\"wiki.txt\", 'a', encoding='utf-8') as new_f:\n",
    "                with open(dirPath+\"\\\\\"+dirc+\"\\\\\"+lis, 'r', newline='', encoding='utf-8') as file:\n",
    "                    for times, data in enumerate(file, 1):\n",
    "                        #print('data num:', times)\n",
    "                        data = cc.convert(data)\n",
    "                        data = json.loads(data)\n",
    "                        data = replace_all_blank(data['text'])#讀出文字\n",
    "                        data = jieba.cut(data)\n",
    "                        data = [word for word in data if word != ' ']\n",
    "                        data = ' '.join(data)+\"\\n\"#切完之後用空格串在一起\n",
    "                        new_f.write(data)\n",
    "                        \n",
    "writefile(Path)"
   ]
  },
  {
   "cell_type": "code",
   "execution_count": 7,
   "metadata": {},
   "outputs": [],
   "source": [
    "from gensim.models import word2vec\n",
    "\n",
    "# Settings\n",
    "seed = 666\n",
    "sg = 0\n",
    "window_size = 10\n",
    "vector_size = 100\n",
    "min_count = 1\n",
    "workers = 8\n",
    "epochs = 5\n",
    "batch_words = 10000\n",
    "\n",
    "train_data = word2vec.LineSentence('wiki.txt')\n",
    "#訓練\n",
    "model = word2vec.Word2Vec(\n",
    "    train_data,\n",
    "    min_count=min_count,\n",
    "    vector_size=vector_size,\n",
    "    workers=workers,\n",
    "    epochs=epochs,\n",
    "    window=window_size,\n",
    "    sg=sg,\n",
    "    seed=seed,\n",
    "    batch_words=batch_words\n",
    ")\n",
    "\n",
    "model.save('NLP_HW04.model')"
   ]
  },
  {
   "cell_type": "code",
   "execution_count": 11,
   "metadata": {},
   "outputs": [
    {
     "name": "stdout",
     "output_type": "stream",
     "text": [
      "('PDA', 0.7359637022018433)\n",
      "('計算機', 0.7237363457679749)\n",
      "('筆記型', 0.7005979418754578)\n",
      "('微電腦', 0.6991584897041321)\n",
      "('人工智慧', 0.6893282532691956)\n",
      "('印表', 0.6872910857200623)\n",
      "('傳真機', 0.6865589022636414)\n",
      "('機器', 0.675554096698761)\n",
      "('軟體', 0.670307993888855)\n",
      "('硬碟', 0.6587104201316833)\n",
      "('筆記本', 0.6566839814186096)\n",
      "('戲機', 0.6555691361427307)\n",
      "('硬體', 0.6509539484977722)\n",
      "('晶片', 0.6478882431983948)\n",
      "('港鐵車費', 0.6478851437568665)\n",
      "('電腦系', 0.6437525153160095)\n",
      "('IBM', 0.643251895904541)\n",
      "('程式', 0.6423818469047546)\n",
      "('記型', 0.6401033997535706)\n",
      "('終端機', 0.6372550129890442)\n"
     ]
    }
   ],
   "source": [
    "from gensim.models import word2vec\n",
    "\n",
    "model = word2vec.Word2Vec.load('NLP_HW04.model')\n",
    "\n",
    "for item in model.wv.most_similar('電腦',topn=20):\n",
    "    print(item)"
   ]
  },
  {
   "cell_type": "code",
   "execution_count": null,
   "metadata": {},
   "outputs": [],
   "source": []
  }
 ],
 "metadata": {
  "kernelspec": {
   "display_name": "Python 3",
   "language": "python",
   "name": "python3"
  },
  "language_info": {
   "codemirror_mode": {
    "name": "ipython",
    "version": 3
   },
   "file_extension": ".py",
   "mimetype": "text/x-python",
   "name": "python",
   "nbconvert_exporter": "python",
   "pygments_lexer": "ipython3",
   "version": "3.8.5"
  }
 },
 "nbformat": 4,
 "nbformat_minor": 4
}
