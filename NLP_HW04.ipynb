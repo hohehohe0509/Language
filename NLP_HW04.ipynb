{
 "cells": [
  {
   "cell_type": "code",
   "execution_count": 2,
   "metadata": {},
   "outputs": [],
   "source": [
    "import warnings\n",
    "warnings.filterwarnings('ignore')\n",
    "import gensim, logging"
   ]
  },
  {
   "cell_type": "code",
   "execution_count": null,
   "metadata": {},
   "outputs": [],
   "source": [
    "import os\n",
    "from opencc import OpenCC\n",
    "import json\n",
    "import re\n",
    "import jieba\n",
    "#簡轉繁\n",
    "cc = OpenCC('s2t')\n",
    "dirPath=r\"C:\\Users\\何佳馨\\wiki_zh_2019\\wiki_zh\"\n",
    "\n",
    "def replace_all_blank(value):        #去掉標點符號\n",
    "  result = re.sub('\\W+', ' ', value).replace(\"_\",  '')\n",
    "  return result\n",
    "\n",
    "for dirc in os.listdir(dirPath):\n",
    "    for lis in os.listdir(dirPath+\"\\\\\"+dirc):\n",
    "        with open(\"wiki.txt\", 'a', encoding='utf-8') as new_f:\n",
    "            with open(dirPath+\"\\\\\"+dirc+\"\\\\\"+lis, 'r', newline='', encoding='utf-8') as file:\n",
    "                for times, data in enumerate(file, 1):\n",
    "                    #print('data num:', times)\n",
    "                    data = cc.convert(data)\n",
    "                    data = json.loads(data)\n",
    "                    data = replace_all_blank(data['text'])\n",
    "                    data = jieba.cut(data)\n",
    "                    data = [word for word in data if word != ' ']\n",
    "                    data = ' '.join(data)+\"\\n\"\n",
    "                    new_f.write(data)\n",
    "    \n",
    "'''for dirc in os.listdir(dirPath):\n",
    "    print (os.listdir(dirPath+\"\\\\\"+dirc))\n",
    "cc.convert(text)'''"
   ]
  },
  {
   "cell_type": "code",
   "execution_count": null,
   "metadata": {},
   "outputs": [],
   "source": [
    "from gensim.models import word2vec\n",
    "\n",
    "# Settings\n",
    "seed = 666\n",
    "sg = 0\n",
    "window_size = 20\n",
    "vector_size = 100\n",
    "min_count = 1\n",
    "workers = 8\n",
    "epochs = 5\n",
    "batch_words = 10000\n",
    "\n",
    "train_data = word2vec.LineSentence('wiki.txt')\n",
    "model = word2vec.Word2Vec(\n",
    "    train_data,\n",
    "    min_count=min_count,\n",
    "    vector_size=vector_size,\n",
    "    workers=workers,\n",
    "    epochs=epochs,\n",
    "    window=window_size,\n",
    "    sg=sg,\n",
    "    seed=seed,\n",
    "    batch_words=batch_words\n",
    ")\n",
    "\n",
    "model.save('NLP_HW04.model')"
   ]
  },
  {
   "cell_type": "code",
   "execution_count": null,
   "metadata": {},
   "outputs": [],
   "source": [
    "from gensim.models import word2vec\n",
    "\n",
    "model = word2vec.Word2Vec.load('NLP_HW04.model')\n",
    "print(model.wv['生物'].shape)\n",
    "\n",
    "for item in model.wv.most_similar('生物'):\n",
    "    print(item)"
   ]
  }
 ],
 "metadata": {
  "kernelspec": {
   "display_name": "Python 3",
   "language": "python",
   "name": "python3"
  },
  "language_info": {
   "codemirror_mode": {
    "name": "ipython",
    "version": 3
   },
   "file_extension": ".py",
   "mimetype": "text/x-python",
   "name": "python",
   "nbconvert_exporter": "python",
   "pygments_lexer": "ipython3",
   "version": "3.8.5"
  }
 },
 "nbformat": 4,
 "nbformat_minor": 4
}
