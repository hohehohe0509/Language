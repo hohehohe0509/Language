{
 "cells": [
  {
   "cell_type": "code",
   "execution_count": 21,
   "metadata": {},
   "outputs": [],
   "source": [
    "#encoding=utf-8\n",
    "import jieba\n",
    "import matplotlib.pyplot as plt\n",
    "import numpy as np\n",
    "import math\n",
    "import re\n",
    "\n",
    "Class=list()\n",
    "intr=list()\n",
    "\n",
    "def replace_all_blank(value):        #去掉標點符號\n",
    "  result = re.sub('\\W+', ' ', value).replace(\"_\",  '')\n",
    "  return result\n",
    "\n",
    "#讀檔\n",
    "def Read():\n",
    "    with open('NLP_HW02.csv', 'r', newline='', encoding='utf-8') as csvfile:\n",
    "        rows = csv.DictReader(csvfile)\n",
    "        for row in rows:\n",
    "          if row['Column3']==\"劇情介紹\":\n",
    "              Class.append(row['Column2'])\n",
    "              intr.append(row['Column3'])\n",
    "          strin=' '.join(jieba.cut(replace_all_blank(row['Column3'])))\n",
    "          row['Column2'] = row['Column2'].split(' ')[0]\n",
    "          if row['Column2']!=\"NA\":\n",
    "            Class.append(row['Column2'])\n",
    "            intr.append(strin)\n",
    "\n",
    "Read()\n"
   ]
  },
  {
   "cell_type": "code",
   "execution_count": 24,
   "metadata": {},
   "outputs": [],
   "source": [
    "import pandas as pd\n",
    "import csv\n",
    "\n",
    "#寫檔 只寫進分類和內容\n",
    "def write():\n",
    "    for i in range(len(Class)):\n",
    "      with open('NLP_HW03_copy.csv', 'a', newline='', encoding='utf-8') as file:\n",
    "        writer = csv.writer(file)\n",
    "        writer.writerow([  Class[i], intr[i]])\n",
    "\n",
    "write()"
   ]
  },
  {
   "cell_type": "code",
   "execution_count": 29,
   "metadata": {},
   "outputs": [],
   "source": [
    "#讀出整理好的檔案內容\n",
    "df = pd.read_csv('NLP_HW03_copy.csv')\n",
    "col = ['分類', '劇情介紹'] \n",
    "df = df[col] \n",
    "df = df[pd.notnull(df['劇情介紹'])] \n",
    "df.columns = ['分類', '劇情介紹'] \n",
    "df['category_id'] = df['分類'].factorize()[0] \n",
    "category_id_df = df[['分類', 'category_id']].drop_duplicates().sort_values('category_id') \n",
    "category_to_id = dict(category_id_df.values) \n",
    "id_to_category = dict(category_id_df[['category_id', '分類']].values)"
   ]
  },
  {
   "cell_type": "code",
   "execution_count": 43,
   "metadata": {},
   "outputs": [],
   "source": [
    "from sklearn.feature_extraction.text import TfidfVectorizer \n",
    "from sklearn.decomposition import TruncatedSVD\n",
    "tfidf = TfidfVectorizer(sublinear_tf=True, min_df=5, norm='l2', encoding='UTF-8', ngram_range=(1, 2), stop_words='english') \n",
    "features = tfidf.fit_transform(df.劇情介紹).toarray() \n",
    "labels = df.category_id \n",
    "features.shape\n",
    "\n",
    "n = 20          \n",
    "svd = TruncatedSVD(n)               \n",
    "Features = svd.fit_transform(features)\n"
   ]
  },
  {
   "cell_type": "code",
   "execution_count": 45,
   "metadata": {},
   "outputs": [
    {
     "name": "stdout",
     "output_type": "stream",
     "text": [
      "正確率: 58.4 %\n"
     ]
    }
   ],
   "source": [
    "from sklearn.neighbors import KNeighborsClassifier\n",
    "from sklearn.model_selection import train_test_split \n",
    "from sklearn.feature_extraction.text import CountVectorizer \n",
    "\n",
    "X_train, X_test, y_train, y_test = train_test_split(Features, df['分類'], test_size=500, random_state = 100)\n",
    "clf=KNeighborsClassifier(n_neighbors=31,p=2,weights=\"distance\",algorithm='brute')\n",
    "clf.fit(X_train,y_train)\n",
    "print(\"正確率:\",clf.score(X_test, y_test)*100,\"%\")"
   ]
  },
  {
   "cell_type": "code",
   "execution_count": null,
   "metadata": {},
   "outputs": [],
   "source": []
  },
  {
   "cell_type": "code",
   "execution_count": null,
   "metadata": {},
   "outputs": [],
   "source": []
  }
 ],
 "metadata": {
  "kernelspec": {
   "display_name": "Python 3",
   "language": "python",
   "name": "python3"
  },
  "language_info": {
   "codemirror_mode": {
    "name": "ipython",
    "version": 3
   },
   "file_extension": ".py",
   "mimetype": "text/x-python",
   "name": "python",
   "nbconvert_exporter": "python",
   "pygments_lexer": "ipython3",
   "version": "3.8.5"
  }
 },
 "nbformat": 4,
 "nbformat_minor": 4
}
