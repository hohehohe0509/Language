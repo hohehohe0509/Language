{
 "cells": [
  {
   "cell_type": "code",
   "execution_count": null,
   "metadata": {},
   "outputs": [],
   "source": [
    "import pandas as pd\n",
    "import numpy as np\n",
    "import jieba\n",
    "\n",
    "import matplotlib.pyplot as plt\n",
    "\n",
    "from sklearn.preprocessing import LabelEncoder\n",
    "from sklearn.feature_extraction.text import CountVectorizer, TfidfVectorizer\n",
    "\n",
    "from sklearn.preprocessing import MinMaxScaler\n",
    "from sklearn.model_selection import cross_val_score, GridSearchCV, train_test_split, cross_validate, RandomizedSearchCV\n",
    "from sklearn.feature_extraction.text import CountVectorizer, TfidfVectorizer\n",
    "from sklearn.svm import SVC\n",
    "from sklearn.naive_bayes import MultinomialNB  \n",
    "from sklearn.linear_model import LogisticRegression \n",
    "from sklearn.neighbors import KNeighborsClassifier  \n",
    "from sklearn.ensemble import GradientBoostingClassifier, RandomForestClassifier \n",
    "import xgboost as xgb\n",
    "import lightgbm as lgb\n",
    "from sklearn import metrics\n",
    "\n",
    "from io import StringIO \n",
    "col = ['Column2', 'Column3'] \n",
    "df = df[col] \n",
    "df = df[pd.notnull(df['Column3'])] \n",
    "df.columns = ['Column2', 'Column3'] \n",
    "df['category_id'] = df['Column2'].factorize()[0] \n",
    "category_id_df = df[['Column2', 'category_id']].drop_duplicates().sort_values('category_id') \n",
    "category_to_id = dict(category_id_df.values) \n",
    "id_to_category = dict(category_id_df[['category_id', 'Column2']].values) \n",
    "df.head()"
   ]
  },
  {
   "cell_type": "code",
   "execution_count": null,
   "metadata": {},
   "outputs": [],
   "source": [
    "import pandas as pd\n",
    "import csv\n",
    "\n",
    "Class=list()\n",
    "intr=list()\n",
    "with open('NLP_HW02.csv', 'r', newline='', encoding='utf-8') as csvfile:\n",
    "    rows = csv.DictReader(csvfile)\n",
    "    for row in rows:\n",
    "      row['Column2'] = row['Column2'].split(' ')[0]\n",
    "      Class.append(row['Column2'])\n",
    "      intr.append(row['Column3'])\n",
    "\n",
    "for i in range(6001):\n",
    "  with open('NLP_HW02_copy.csv', 'a', newline='', encoding='utf-8') as file:\n",
    "    writer = csv.writer(file)\n",
    "    writer.writerow([  Class[i], intr[i]])"
   ]
  },
  {
   "cell_type": "code",
   "execution_count": null,
   "metadata": {},
   "outputs": [],
   "source": [
    "from io import StringIO \n",
    "df = pd.read_csv('NLP_HW02_copy.csv')\n",
    "col = ['分類', '劇情介紹'] \n",
    "df = df[col] \n",
    "df = df[pd.notnull(df['劇情介紹'])] \n",
    "df.columns = ['分類', '劇情介紹'] \n",
    "df['category_id'] = df['分類'].factorize()[0] \n",
    "category_id_df = df[['分類', 'category_id']].drop_duplicates().sort_values('category_id') \n",
    "category_to_id = dict(category_id_df.values) \n",
    "id_to_category = dict(category_id_df[['category_id', '分類']].values) \n",
    "df.head()"
   ]
  },
  {
   "cell_type": "code",
   "execution_count": null,
   "metadata": {},
   "outputs": [],
   "source": [
    "from sklearn.feature_extraction.text import TfidfVectorizer \n",
    "tfidf = TfidfVectorizer(sublinear_tf=True, min_df=1, norm='l2', encoding='latin-1', ngram_range=(1, 2), stop_words='english') \n",
    "features = tfidf.fit_transform(df.劇情介紹).toarray() \n",
    "labels = df.category_id \n",
    "features.shape\n"
   ]
  },
  {
   "cell_type": "code",
   "execution_count": null,
   "metadata": {},
   "outputs": [],
   "source": [
    "from sklearn.feature_selection import chi2 \n",
    "import numpy as np \n",
    "N = 2 \n",
    "for Product, category_id in sorted(category_to_id.items()): \n",
    "  features_chi2 = chi2(features, labels == category_id) \n",
    "  indices = np.argsort(features_chi2[0]) \n",
    "  feature_names = np.array(tfidf.get_feature_names())[indices] \n",
    "  unigrams = [v for v in feature_names if len(v.split(' ')) == 1] \n",
    "  bigrams = [v for v in feature_names if len(v.split(' ')) == 2] \n",
    "  print(\"# '{}':\".format(Product)) \n",
    "  print(\" . Most correlated unigrams:\\n. {}\".format('\\n. '.join(unigrams[-N:]))) \n",
    "  print(\" . Most correlated bigrams:\\n. {}\".format('\\n. '.join(bigrams[-N:])))\n"
   ]
  },
  {
   "cell_type": "code",
   "execution_count": null,
   "metadata": {},
   "outputs": [],
   "source": [
    "from sklearn.model_selection import train_test_split \n",
    "from sklearn.feature_extraction.text import CountVectorizer \n",
    "from sklearn.feature_extraction.text import TfidfTransformer \n",
    "from sklearn.naive_bayes import MultinomialNB\n",
    "\n",
    "X_train, X_test, y_train, y_test = train_test_split(df['劇情介紹'], df['分類'], test_size=0.9, random_state = 0)\n",
    "count_vect = CountVectorizer() \n",
    "X_train_counts = count_vect.fit_transform(X_train) \n",
    "tfidf_transformer = TfidfTransformer() \n",
    "X_train_tfidf = tfidf_transformer.fit_transform(X_train_counts) \n",
    "clf = MultinomialNB().fit(X_train_tfidf, y_train)\n",
    "\n",
    "print(clf.predict(count_vect.transform([\"2010/12/03 早場搶先上映！★2010金馬影展開幕片★2010東京影展  2010釜山影展★台灣三大實力導演聯合執導、重新詮釋莎士比亞經典角色「茱麗葉」就算諾言不曾實現  曾經愛過的回憶依舊存在     三段時空  三個為情所困的茱麗葉「帶我一起走。」那夜，秀珠鼓起勇氣對羅偉這麼說。那是1970年代的臺灣，跛腳女工秀珠成日生活在充滿油墨、紙張與機器噪音的陰暗工廠裡，對於未來、對於愛情的憧憬幾乎已消失殆盡。某日，一個年輕大學生羅偉出現，他想印一份報紙，內容是對社會改革的批判與意見。他熱切的言論和模樣，深深吸引了秀珠。那是戒嚴的年代，印刷廠老闆毫不猶豫地拒絕。但在印刷廠的後巷，秀珠偷偷叫住他，承諾私下幫他印那份報紙。看著羅偉喜出望外的笑顏，秀珠心想，不管後果有多嚴重，此刻她願意付出全世界，只為了交換那陽光世界裡的愛情幻覺……，哪怕只有一分鐘也好。 「為了你，我什麼都敢。」茱莉永遠記得小羅許下的這個承諾。30年前，歌舞團千金的她愛上布袋戲世家小羅，逢年過節廟口請戲，他兩家分占廣場兩頭表演，現實的競爭關係讓兩家父親互相仇視，茱莉和小羅只能暗暗相戀。山上的精神病院是他們唯一能夠找到的約會場所，宛若驚悚片的陰暗地點，似乎在測試他們對這段愛是否有足夠勇氣。然而戀情終被發現，震怒的茱莉父親逼迫羅家父子離開，臨走前小羅冒險去見茱莉最後一面，問她，敢不敢裝瘋進病院等他回來……？30年後，同個村落正因分手傷心的女孩阿妹，從一個外地來的男子口中知道這個故事，那名男子正要往山上精神病院而去……「我的愛，被老天爺沒收了。」在39歲最後一天，「茱麗葉」心中縈繞著這句話。歷經28次的單戀失敗後，「茱麗葉」決定在邁入40歲的前夕了結生命。騎著腳踏車入深山，他想不麻煩人、不嚇人地死掉。但就在繩子套到脖上的那一刻，突然有人出聲叫他走開。「茱麗葉」一看，山谷下十幾人的劇組正在拍廣告，劇組不但不讓他在那死，還拗他當臨演。「茱麗葉」莫名奇妙加入拍攝，休息時間聽到臨演界人人皆知的世紀愛情故事：在他們之中，有人拋棄正職跑起龍套，為的只是希望有天能在片廠與已成大明星的兒時愛慕對象相見。看到比自己對愛更執著的怪咖，「茱麗葉」突然有了活下去的勇氣，說不定，還能有第29次單戀？\"])))\n"
   ]
  },
  {
   "cell_type": "code",
   "execution_count": null,
   "metadata": {},
   "outputs": [],
   "source": []
  }
 ],
 "metadata": {
  "kernelspec": {
   "display_name": "Python 3",
   "language": "python",
   "name": "python3"
  },
  "language_info": {
   "codemirror_mode": {
    "name": "ipython",
    "version": 3
   },
   "file_extension": ".py",
   "mimetype": "text/x-python",
   "name": "python",
   "nbconvert_exporter": "python",
   "pygments_lexer": "ipython3",
   "version": "3.8.5"
  }
 },
 "nbformat": 4,
 "nbformat_minor": 4
}
